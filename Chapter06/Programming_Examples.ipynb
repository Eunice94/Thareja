{
 "cells": [
  {
   "cell_type": "code",
   "execution_count": null,
   "metadata": {},
   "outputs": [],
   "source": [
    "6.1\n",
    "\n",
    "Write a program to print the following pattern."
   ]
  },
  {
   "cell_type": "code",
   "execution_count": null,
   "metadata": {},
   "outputs": [],
   "source": [
    "for i in range(1,7):\n",
    "    ch= 'A'\n",
    "    print()\n",
    "    for _ in range(1, i+1):\n",
    "        print(ch, end=' ')\n",
    "        ch= chr(ord(ch) + 1)"
   ]
  },
  {
   "attachments": {},
   "cell_type": "markdown",
   "metadata": {},
   "source": [
    "6.2\n",
    "\n",
    "Write a program that takes user's name and PAN card number as input Validate the information using isX function and print the details"
   ]
  },
  {
   "cell_type": "code",
   "execution_count": 2,
   "metadata": {},
   "outputs": [
    {
     "name": "stdout",
     "output_type": "stream",
     "text": [
      "Please check Eunice your PAN card number is : 23748\n"
     ]
    }
   ],
   "source": [
    "while(1):\n",
    "    name = input('\\n Enter your name : ')\n",
    "    if name.isalpha() == False:\n",
    "        print('Invalid Name, Sorry you cannot proceed.')\n",
    "        break\n",
    "    else:\n",
    "        pan_card_no = input('\\n Enter your PAN card number : ')\n",
    "        if pan_card_no.isalnum() == False:\n",
    "            print('Invalid PAN card Number, Sorry you cannot proceed')\n",
    "            break\n",
    "        print(f'Please check {name} your PAN card number is : {pan_card_no}')\n",
    "        break"
   ]
  },
  {
   "attachments": {},
   "cell_type": "markdown",
   "metadata": {},
   "source": [
    "6.3\n",
    "\n",
    "Write a program that encrypts a message by adding a key value to every character. (Caesar Cipher)\n",
    "# Hint: Say, if key= 3, then add 3 to every character"
   ]
  },
  {
   "cell_type": "code",
   "execution_count": null,
   "metadata": {},
   "outputs": [],
   "source": [
    "message= 'HelloWorld'\n",
    "index= 0\n",
    "\n",
    "while index < len(message):\n",
    "    letter= message[index]\n",
    "    print(chr(ord(letter) + 3), end=' ')\n",
    "    index += 1"
   ]
  },
  {
   "attachments": {},
   "cell_type": "markdown",
   "metadata": {},
   "source": [
    "6.4\n",
    "\n",
    "Write a program that uses split() to split a multiline string\n",
    "\n"
   ]
  },
  {
   "cell_type": "code",
   "execution_count": null,
   "metadata": {},
   "outputs": [],
   "source": [
    "letter = '''Dear students,\n",
    "I am pleased to inform you that,\n",
    "there is a workshop on python in college tomorrow.\n",
    "Everyone should comme and \n",
    "there will also be a quiz in python, whosoever wins\n",
    "wil win a Gold medal.'''\n",
    "\n",
    "print(letter.split('\\n'))"
   ]
  },
  {
   "attachments": {},
   "cell_type": "markdown",
   "metadata": {},
   "source": [
    "6.5\n",
    "\n",
    "Write a program to generate an Abecedarian Series\n",
    "# Hint: Abecedarian refers to a series or list in which the elements appear in alphabetical order"
   ]
  },
  {
   "cell_type": "code",
   "execution_count": null,
   "metadata": {},
   "outputs": [],
   "source": [
    "str1= 'ABCDEFGH'\n",
    "str2= 'ate'\n",
    "\n",
    "for letter in str1:\n",
    "    print((letter + str2), end=' ')"
   ]
  },
  {
   "attachments": {},
   "cell_type": "markdown",
   "metadata": {},
   "source": [
    "6.6\n",
    "\n",
    "Write a program that accepts a string from user and redisplays the same string after removing vowels from it"
   ]
  },
  {
   "cell_type": "code",
   "execution_count": null,
   "metadata": {},
   "outputs": [],
   "source": [
    "def remove_vowels(s):\n",
    "    new_str = ''\n",
    "    for i in s:\n",
    "        if i in 'aeiouAEIOU':\n",
    "            pass\n",
    "        else:\n",
    "            new_str += i\n",
    "    print(f'The string without vowels is : {new_str}')\n",
    "str = input('\\n Enter a string : ')\n",
    "remove_vowels(str)"
   ]
  },
  {
   "attachments": {},
   "cell_type": "markdown",
   "metadata": {},
   "source": [
    "6.7\n",
    "\n",
    "Write a program that finds whether a given character is present in a string or not In case it is present it prints the index at which it is present. Do not use built-in find functions to search the character.\n"
   ]
  },
  {
   "cell_type": "code",
   "execution_count": null,
   "metadata": {},
   "outputs": [],
   "source": [
    "def find_ch(s,c):\n",
    "    index= 0\n",
    "    while index < len(s):\n",
    "        if s[index] == c:\n",
    "            print(f'{c} found in string at index {index}')\n",
    "            return\n",
    "        else:\n",
    "            pass\n",
    "        index += 1\n",
    "\n",
    "    print(f'{c} is not present in the string')\n",
    "\n",
    "str= input('Enter a string : ')\n",
    "ch= input('Enter the character to be searched : ')\n",
    "\n",
    "find_ch(str,ch)\n",
    "\n",
    "print()"
   ]
  },
  {
   "attachments": {},
   "cell_type": "markdown",
   "metadata": {},
   "source": [
    "6.8\n",
    "\n",
    "Write a program that emulates the rfind function"
   ]
  },
  {
   "cell_type": "code",
   "execution_count": null,
   "metadata": {},
   "outputs": [],
   "source": [
    "def rfind_ch(s, c):\n",
    "    index = len(s)-1\n",
    "    while index >= 0:\n",
    "        if s[index] == c:\n",
    "            return index\n",
    "        index = index - 1\n",
    "    return - 1\n",
    "str = input('\\n Enter a string : ')\n",
    "ch = input('\\n Enter a character to be searched : ')\n",
    "index = rfind_ch(str, ch)\n",
    "if index != -1:\n",
    "    print(f'{ch} is found at location {index}')\n",
    "else:\n",
    "    print(f'{ch} not found in the strind')"
   ]
  },
  {
   "attachments": {},
   "cell_type": "markdown",
   "metadata": {},
   "source": [
    "6.9\n",
    "\n",
    "Write a program that counts the occurrences of a character in a string. Do not use built-in count function"
   ]
  },
  {
   "cell_type": "code",
   "execution_count": null,
   "metadata": {},
   "outputs": [],
   "source": [
    "def count_ch(s,c):\n",
    "    count= 0\n",
    "    for i in s:\n",
    "        if i == c:\n",
    "            count += 1\n",
    "    return count\n",
    "\n",
    "str= input('Enter a string: ')\n",
    "ch= input('Enter the character to be searched: ')\n",
    "\n",
    "print()\n",
    "\n",
    "count= count_ch(str, ch)\n",
    "\n",
    "print(f'In {str} {ch} occurs {count} times')\n",
    "\n",
    "print()"
   ]
  },
  {
   "attachments": {},
   "cell_type": "markdown",
   "metadata": {},
   "source": [
    "6.10\n",
    "\n",
    "Modify the above program so that it starts counting from the specified location\n"
   ]
  },
  {
   "cell_type": "code",
   "execution_count": null,
   "metadata": {},
   "outputs": [],
   "source": [
    "def count_ch(s,c, beg = 0):\n",
    "    count = 0\n",
    "    index = beg\n",
    "    while index < len(s):\n",
    "        if s[index]== c:\n",
    "            count+= 1\n",
    "    return count\n",
    "str = input('\\n Enter a string : ')\n",
    "ch = input('\\n Enter the character to be searched : ')\n",
    "count = count_ch(str, ch)\n",
    "print(f'in {str} {ch} occurs {count} times from begining to end')\n",
    "loc = int(input('\\n from which position do you want to start counting : '))\n",
    "count = count_ch(str, ch, loc)\n",
    "print(f'in {str} {ch} occurs{count} times from position {loc} to end')"
   ]
  },
  {
   "attachments": {},
   "cell_type": "markdown",
   "metadata": {},
   "source": [
    "6.11\n",
    "\n",
    "Write a Program to reverse a string"
   ]
  },
  {
   "cell_type": "code",
   "execution_count": null,
   "metadata": {},
   "outputs": [],
   "source": [
    "def reverse(str):\n",
    "    new_str= ''\n",
    "    i= len(str) - 1\n",
    "    while i >= 0:\n",
    "        new_str += str[i]\n",
    "        i -= 1\n",
    "\n",
    "    return new_str\n",
    "\n",
    "str= input('Enter a string: ')\n",
    "print()\n",
    "print(f'The reversed a string is {reverse(str)}')"
   ]
  },
  {
   "attachments": {},
   "cell_type": "markdown",
   "metadata": {},
   "source": [
    "6.12\n",
    "Write a program to parse an email id to print from which email server it was sent and when"
   ]
  },
  {
   "cell_type": "code",
   "execution_count": 4,
   "metadata": {},
   "outputs": [
    {
     "name": "stdout",
     "output_type": "stream",
     "text": [
      "The email has been sent through gmail.com\n",
      "It was sent on Sun Oct 16 20:29:16 201\n"
     ]
    }
   ],
   "source": [
    "info = 'From priti.rao@gmail.com Sun Oct 16 20:29:16 2016'\n",
    "start = info.find('@') + 1\n",
    "end = info.find('.com') +4\n",
    "mail_server = info[start:end]\n",
    "start = end + 1\n",
    "end  = len(info) - 1\n",
    "date_time = info[start:end]\n",
    "print('The email has been sent through ' + mail_server)\n",
    "print('It was sent on ' + date_time)"
   ]
  },
  {
   "attachments": {},
   "cell_type": "markdown",
   "metadata": {},
   "source": [
    "6.13\n",
    "\n",
    "Write a program that uses a regular expression to match strings which starts with a sequence of digits (at least one digit) followed by a blank and after this arbitrary characters."
   ]
  },
  {
   "cell_type": "code",
   "execution_count": null,
   "metadata": {},
   "outputs": [],
   "source": [
    "import re\n",
    "pattern= r'^[0-9]+ .*'\n",
    "string= '12 abc'\n",
    "match= re.search(pattern, string)\n",
    "\n",
    "if match:\n",
    "    print('Match')"
   ]
  },
  {
   "attachments": {},
   "cell_type": "markdown",
   "metadata": {},
   "source": [
    "6.14\n",
    "\n",
    "Write a program to extract each character from a string using a regular expression"
   ]
  },
  {
   "cell_type": "code",
   "execution_count": null,
   "metadata": {},
   "outputs": [],
   "source": [
    "import re\n",
    "result = re.findall(r'.' , 'Good Going')\n",
    "print(result)\n"
   ]
  },
  {
   "attachments": {},
   "cell_type": "markdown",
   "metadata": {},
   "source": [
    "6.15\n",
    "\n",
    "Write a program to extract each word from a string using a regular expression"
   ]
  },
  {
   "cell_type": "code",
   "execution_count": null,
   "metadata": {},
   "outputs": [],
   "source": [
    "import re\n",
    "result= re.findall(r'\\w+', 'Good Going Python')\n",
    "print(result)"
   ]
  },
  {
   "attachments": {},
   "cell_type": "markdown",
   "metadata": {},
   "source": [
    "6.16\n",
    "\n",
    "Write a program to print the first word of the string"
   ]
  },
  {
   "cell_type": "code",
   "execution_count": null,
   "metadata": {},
   "outputs": [],
   "source": [
    "import re\n",
    "result = re.findall(r'^\\w+', 'Going Good Python')\n",
    "print(result)"
   ]
  },
  {
   "attachments": {},
   "cell_type": "markdown",
   "metadata": {},
   "source": [
    "6.17\n",
    "\n",
    "Write a program to print the last word of the string"
   ]
  },
  {
   "cell_type": "code",
   "execution_count": null,
   "metadata": {},
   "outputs": [],
   "source": [
    "import re\n",
    "result= re.findall(r'\\w+$', 'Good Going Python')\n",
    "print(result)"
   ]
  },
  {
   "attachments": {},
   "cell_type": "markdown",
   "metadata": {},
   "source": [
    "6.18\n",
    "\n",
    "Write a program to print the characters in pairs"
   ]
  },
  {
   "cell_type": "code",
   "execution_count": null,
   "metadata": {},
   "outputs": [],
   "source": [
    "import re\n",
    "result = re.findall(r'\\w\\w', 'Good Going Python')\n",
    "print(result)"
   ]
  },
  {
   "attachments": {},
   "cell_type": "markdown",
   "metadata": {},
   "source": [
    "6.19\n",
    "\n",
    "Write a program to print only the first two characters of every word\n"
   ]
  },
  {
   "cell_type": "code",
   "execution_count": null,
   "metadata": {},
   "outputs": [],
   "source": [
    "import re\n",
    "\n",
    "result= re.findall(r'\\b\\w\\w', 'Good Going Python')\n",
    "\n",
    "print(result)"
   ]
  },
  {
   "attachments": {},
   "cell_type": "markdown",
   "metadata": {},
   "source": [
    "6.20\n",
    "\n",
    "Write a program to extract a date from a given string"
   ]
  },
  {
   "cell_type": "code",
   "execution_count": null,
   "metadata": {},
   "outputs": [],
   "source": [
    "import re\n",
    "result = re.findall(r'\\d{2}-\\d{2}-\\d{4}', 'Hello my name is Srishti and my date of joining is 11-15-1999 and have experience of more than 17 years')\n",
    "print(f'Date of appointment is : {result}')"
   ]
  },
  {
   "attachments": {},
   "cell_type": "markdown",
   "metadata": {},
   "source": [
    "6.21\n",
    "\n",
    "Write a program to extract the year from a given string"
   ]
  },
  {
   "cell_type": "code",
   "execution_count": null,
   "metadata": {},
   "outputs": [],
   "source": [
    "import re\n",
    "\n",
    "string= 'Hello, my name is Jamal and my date of \\\n",
    "    joining is 11-15-1999 and have experience of more than 17 years'\n",
    "pattern= r'\\d{2}-\\d{2}-(\\d{4})'\n",
    "\n",
    "result= re.findall(pattern, string)\n",
    "\n",
    "print(f'Year of joining is : {result}')"
   ]
  },
  {
   "attachments": {},
   "cell_type": "markdown",
   "metadata": {},
   "source": [
    "6.22\n",
    "\n",
    "Write a program that prints only those words that starts with a vowel\n"
   ]
  },
  {
   "cell_type": "code",
   "execution_count": null,
   "metadata": {},
   "outputs": [],
   "source": [
    "import re\n",
    "result = re.findall(r'\\b[aeiouAEIOU]\\w+', 'Hello my name is Srishti and my date of joining is 11-15-1999 and have experience of more than 17 years')\n",
    "print(result)"
   ]
  },
  {
   "attachments": {},
   "cell_type": "markdown",
   "metadata": {},
   "source": [
    "6.23\n",
    "\n",
    "Write a program that validates a mobile phone number. The number should start with 7, 8 or 9 followed by 9 digits.\n"
   ]
  },
  {
   "cell_type": "code",
   "execution_count": null,
   "metadata": {},
   "outputs": [],
   "source": [
    "import re\n",
    "\n",
    "List= ['7838456789', '1234567890', '9876543210', '8901234567', '4567890123']\n",
    "\n",
    "for i in List:\n",
    "    result= re.findall(r'[7-9]{1}[0-9]{9}', i)\n",
    "    if result:\n",
    "        print(result, end=' ')\n",
    "        "
   ]
  },
  {
   "attachments": {},
   "cell_type": "markdown",
   "metadata": {},
   "source": [
    "6.24\n",
    "\n",
    "Write a program that replaces,,;,-from a string with a blank space character"
   ]
  },
  {
   "cell_type": "code",
   "execution_count": null,
   "metadata": {},
   "outputs": [],
   "source": [
    "import re\n",
    "result = re.sub(r'[;,-]', ' ', 'Hello! my name- is Srishti.; and my date-of-joining is 11-15-1999 and have experience of, more than 17 years;')\n",
    "print(result)"
   ]
  },
  {
   "attachments": {},
   "cell_type": "markdown",
   "metadata": {},
   "source": [
    "6.25\n",
    "\n",
    "Write a program that uses a regular expression to pluralize a word\n"
   ]
  },
  {
   "cell_type": "code",
   "execution_count": null,
   "metadata": {},
   "outputs": [],
   "source": [
    "import re\n",
    "\n",
    "def pluralize(noun):\n",
    "    if re.search('[sxz]$', noun):\n",
    "        return re.sub('$', 'es', noun)\n",
    "    \n",
    "    elif re.search('[^aeioudgkprt]h$', noun):\n",
    "        return re.sub('$', 'es', noun)\n",
    "\n",
    "    elif re.search('[^aeiou]y$', noun):\n",
    "        return re.sub('y$', 'ies', noun)\n",
    "\n",
    "    else:\n",
    "        return noun + 's'\n",
    "\n",
    "List= ['bush', 'fox', 'toy', 'cap']\n",
    "for i in List:\n",
    "    print(f'{i} - {pluralize(i)}')"
   ]
  }
 ],
 "metadata": {
  "kernelspec": {
   "display_name": "base",
   "language": "python",
   "name": "python3"
  },
  "language_info": {
   "codemirror_mode": {
    "name": "ipython",
    "version": 3
   },
   "file_extension": ".py",
   "mimetype": "text/x-python",
   "name": "python",
   "nbconvert_exporter": "python",
   "pygments_lexer": "ipython3",
   "version": "3.8.8"
  },
  "orig_nbformat": 4
 },
 "nbformat": 4,
 "nbformat_minor": 2
}
